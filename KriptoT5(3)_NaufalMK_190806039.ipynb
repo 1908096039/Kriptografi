{
 "cells": [
  {
   "cell_type": "code",
   "execution_count": 1,
   "id": "63c37880",
   "metadata": {},
   "outputs": [
    {
     "name": "stdout",
     "output_type": "stream",
     "text": [
      "Collecting pycryptodomeNote: you may need to restart the kernel to use updated packages.\n",
      "  Downloading pycryptodome-3.17-cp35-abi3-win_amd64.whl (1.7 MB)\n",
      "Installing collected packages: pycryptodome\n",
      "Successfully installed pycryptodome-3.17\n",
      "\n"
     ]
    }
   ],
   "source": [
    "#install library pihak ketiga untuk implementasi AES dan padding\n",
    "pip install pycryptodome"
   ]
  },
  {
   "cell_type": "code",
   "execution_count": 2,
   "id": "20d5858e",
   "metadata": {},
   "outputs": [
    {
     "name": "stdout",
     "output_type": "stream",
     "text": [
      "Masukkan pesan: kriptografi\n",
      "Pesan yang telah dienkripsi:  cbb953d195e5cb06b31e78b8096d9875693bfc96792f6220c004a0f5c179134d\n",
      "Pesan yang telah didekripsi:  kriptografi\n"
     ]
    }
   ],
   "source": [
    "import random\n",
    "from Crypto.Cipher import AES\n",
    "from Crypto.Util.Padding import pad, unpad\n",
    "from Crypto.Random import get_random_bytes\n",
    "\n",
    "#Fungsi untuk menghasilkan IV (Initialization Vector)\n",
    "def generate_iv():\n",
    "    return get_random_bytes(16)\n",
    "\n",
    "#Fungsi untuk melakukan enkripsi menggunakan mode operasi CBC\n",
    "def encrypt(message, key):\n",
    "    iv = generate_iv()\n",
    "    cipher = AES.new(key, AES.MODE_CBC, iv)\n",
    "    ciphertext = cipher.encrypt(pad(message.encode(), AES.block_size))\n",
    "    return iv + ciphertext\n",
    "\n",
    "# Fungsi untuk melakukan dekripsi menggunakan mode operasi CBC\n",
    "def decrypt(ciphertext, key):\n",
    "    iv = ciphertext[:16]\n",
    "    ciphertext = ciphertext[16:]\n",
    "    cipher = AES.new(key, AES.MODE_CBC, iv)\n",
    "    decrypted_message = unpad(cipher.decrypt(ciphertext), AES.block_size)\n",
    "    return decrypted_message.decode()\n",
    "\n",
    "# Main Program\n",
    "if __name__ == '__main__':\n",
    "    # Key untuk enkripsi (harus 16, 24, atau 32 bytes)\n",
    "    key = get_random_bytes(16)\n",
    "\n",
    "    # Pesan yang akan dienkripsi\n",
    "    message = input(\"Masukkan pesan: \")\n",
    "\n",
    "    # Enkripsi pesan\n",
    "    ciphertext = encrypt(message, key)\n",
    "    print(\"Pesan yang telah dienkripsi: \", ciphertext.hex())\n",
    "\n",
    "    # Dekripsi pesan\n",
    "    decrypted_message = decrypt(ciphertext, key)\n",
    "    print(\"Pesan yang telah didekripsi: \", decrypted_message)"
   ]
  },
  {
   "cell_type": "code",
   "execution_count": null,
   "id": "03cc600c",
   "metadata": {},
   "outputs": [],
   "source": []
  }
 ],
 "metadata": {
  "kernelspec": {
   "display_name": "Python 3 (ipykernel)",
   "language": "python",
   "name": "python3"
  },
  "language_info": {
   "codemirror_mode": {
    "name": "ipython",
    "version": 3
   },
   "file_extension": ".py",
   "mimetype": "text/x-python",
   "name": "python",
   "nbconvert_exporter": "python",
   "pygments_lexer": "ipython3",
   "version": "3.9.12"
  }
 },
 "nbformat": 4,
 "nbformat_minor": 5
}
